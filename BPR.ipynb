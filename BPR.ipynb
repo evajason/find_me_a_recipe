{
 "cells": [
  {
   "cell_type": "code",
   "execution_count": 1,
   "id": "6d98edfd",
   "metadata": {},
   "outputs": [],
   "source": [
    "import pandas as pd\n",
    "import numpy as np\n",
    "import gzip\n",
    "from collections import defaultdict\n",
    "import math\n",
    "import scipy.optimize\n",
    "from sklearn import svm\n",
    "import string\n",
    "import random\n",
    "import string\n",
    "from sklearn import linear_model\n",
    "from implicit import bpr\n",
    "import csv\n",
    "import json\n",
    "from random import sample "
   ]
  },
  {
   "cell_type": "code",
   "execution_count": 2,
   "id": "6d084e0b",
   "metadata": {},
   "outputs": [],
   "source": [
    "def make_json(file):   \n",
    "    data = {}\n",
    "    with open(file, encoding='utf-8') as csvf:\n",
    "        csvReader = csv.DictReader(csvf)         \n",
    "        for rows in csvReader:\n",
    "            key = rows['id']\n",
    "            data[key] = rows\n",
    "    return data\n",
    "def make_json_u(file):   \n",
    "    data = {}\n",
    "    with open(file, encoding='utf-8') as csvf:\n",
    "        csvReader = csv.DictReader(csvf)         \n",
    "        for rows in csvReader:\n",
    "            key = rows['u']\n",
    "            data[key] = rows\n",
    "    return data\n",
    "def make_json_i(file):   \n",
    "    data = []\n",
    "    with open(file, encoding='utf-8') as csvf:\n",
    "        csvReader = csv.DictReader(csvf)         \n",
    "        for rows in csvReader:\n",
    "            data.append((rows['user_id'], rows['recipe_id'], rows))\n",
    "    return data"
   ]
  },
  {
   "cell_type": "code",
   "execution_count": 3,
   "id": "a84c965e",
   "metadata": {},
   "outputs": [
    {
     "data": {
      "text/plain": [
       "('38094',\n",
       " '40893',\n",
       " {'user_id': '38094',\n",
       "  'recipe_id': '40893',\n",
       "  'date': '2003-02-17',\n",
       "  'rating': '4',\n",
       "  'review': 'Great with a salad. Cooked on top of stove for 15 minutes.Added a shake of cayenne and a pinch of salt.  Used low fat sour cream.  Thanks.'})"
      ]
     },
     "execution_count": 3,
     "metadata": {},
     "output_type": "execute_result"
    }
   ],
   "source": [
    "all_interactions = make_json_i('data/Raw_interactions.csv')\n",
    "data_train = make_json_i('data/interactions_train.csv')\n",
    "data_val = make_json_i('data/interactions_validation.csv')\n",
    "data_test = make_json_i('data/interactions_test.csv')\n",
    "all_interactions[0]"
   ]
  },
  {
   "cell_type": "code",
   "execution_count": 4,
   "id": "c715009c",
   "metadata": {},
   "outputs": [],
   "source": [
    "reviewsPerUser = defaultdict(list)\n",
    "reviewsPerItem = defaultdict(list)\n",
    "allItems = []\n",
    "allUsers = []\n",
    "\n",
    "for d in all_interactions:\n",
    "    reviewsPerUser[d[0]].append(d[1])\n",
    "    reviewsPerItem[d[1]].append(d[0])\n",
    "    allItems.append(d[1])\n",
    "    allUsers.append(d[0])"
   ]
  },
  {
   "cell_type": "code",
   "execution_count": 5,
   "id": "19b18c30",
   "metadata": {},
   "outputs": [],
   "source": [
    "newTest = []\n",
    "for u,i,d in data_test:\n",
    "    newTest.append((u, i, 1))\n",
    "    unplayed = list(set(allItems[:1000]) - set(reviewsPerUser[u]))\n",
    "    newTest.append((u, sample(unplayed, 1)[0], 0))"
   ]
  },
  {
   "cell_type": "code",
   "execution_count": 6,
   "id": "c7090c00",
   "metadata": {},
   "outputs": [
    {
     "data": {
      "text/plain": [
       "231637"
      ]
     },
     "execution_count": 6,
     "metadata": {},
     "output_type": "execute_result"
    }
   ],
   "source": [
    "userID, itemID = {},{}\n",
    "flippedID = {}\n",
    "for user, recipe, d in all_interactions:\n",
    "    if not user in userID: userID[user] = len(userID)\n",
    "    if not recipe in itemID: \n",
    "        itemID[recipe] = len(itemID)\n",
    "        flippedID[len(itemID)] = recipe\n",
    "nUsers,nItems = len(userID),len(itemID)\n",
    "nItems"
   ]
  },
  {
   "cell_type": "code",
   "execution_count": 7,
   "id": "e16adc36",
   "metadata": {},
   "outputs": [],
   "source": [
    "Xui = scipy.sparse.lil_matrix((nUsers, nItems))\n",
    "for u,r,d in data_train:\n",
    "    Xui[userID[u],itemID[r]] = 1\n",
    "for u,r,d in data_val:\n",
    "    Xui[userID[u],itemID[r]] = 1\n",
    "for u,r,d in newTest:\n",
    "    Xui[userID[u],itemID[r]] = 1\n",
    "Xui_csr = scipy.sparse.csr_matrix(Xui)"
   ]
  },
  {
   "cell_type": "code",
   "execution_count": 8,
   "id": "6f148101",
   "metadata": {},
   "outputs": [
    {
     "data": {
      "application/vnd.jupyter.widget-view+json": {
       "model_id": "db795149d5c44f9696583082f4e526bb",
       "version_major": 2,
       "version_minor": 0
      },
      "text/plain": [
       "  0%|          | 0/100 [00:00<?, ?it/s]"
      ]
     },
     "metadata": {},
     "output_type": "display_data"
    }
   ],
   "source": [
    "model = bpr.BayesianPersonalizedRanking(factors = 5)\n",
    "model.fit(Xui_csr)"
   ]
  },
  {
   "cell_type": "code",
   "execution_count": null,
   "id": "2612a618",
   "metadata": {},
   "outputs": [],
   "source": [
    "predictions = []\n",
    "for u, i, d in newTest:\n",
    "    comp = model.recommend(userID[u], Xui_csr[userID[u]], N = 20000)\n",
    "    if itemID[i] in comp[0]:\n",
    "        predictions.append((u, i, 1))\n",
    "    else:\n",
    "        predictions.append((u, i, 0))\n",
    "\n",
    "sum([x == y for x,y in zip(newTest, predictions)]) / len(newTest)"
   ]
  },
  {
   "cell_type": "markdown",
   "id": "ed281e0a",
   "metadata": {},
   "source": [
    "# Testing threshold values for the baseline model"
   ]
  },
  {
   "cell_type": "code",
   "execution_count": null,
   "id": "33891d10",
   "metadata": {},
   "outputs": [],
   "source": [
    "#baseline\n",
    "thresholds = [2, 1.75, 1.5, 1.33, 1.25, 1.2]\n",
    "accuracies = []\n",
    "for thresh in thresholds:\n",
    "    recipeCount = defaultdict(int)\n",
    "    totalMade = 0\n",
    "\n",
    "    for user,recipe,_ in data_train:\n",
    "        recipeCount[recipe] += 1\n",
    "        totalMade += 1\n",
    "\n",
    "    mostPopular = [(recipeCount[x], x) for x in recipeCount]\n",
    "    mostPopular.sort()\n",
    "    mostPopular.reverse()\n",
    "\n",
    "    return1 = set()\n",
    "    count = 0\n",
    "\n",
    "    '''\n",
    "    for ic, i in mostPopular:\n",
    "        if ic > 1:\n",
    "            return1.add(i)\n",
    "        else:\n",
    "            break\n",
    "    '''\n",
    "\n",
    "    for ic, i in mostPopular:\n",
    "        count += ic\n",
    "        return1.add(i)\n",
    "        if count > totalMade/thresh: break\n",
    "\n",
    "    predictions = []\n",
    "    for u,i,d in newTest:\n",
    "        if i in return1:\n",
    "            predictions.append((u, i, 1))\n",
    "        else:\n",
    "            predictions.append((u, i, 0))\n",
    "\n",
    "    accuracies.append((thresh, sum([x == y for x,y in zip(newTest, predictions)]) / len(newTest)))"
   ]
  },
  {
   "cell_type": "code",
   "execution_count": null,
   "id": "fdb69b93",
   "metadata": {},
   "outputs": [],
   "source": [
    "accuracies"
   ]
  },
  {
   "cell_type": "code",
   "execution_count": null,
   "id": "77a67c59",
   "metadata": {},
   "outputs": [],
   "source": []
  }
 ],
 "metadata": {
  "kernelspec": {
   "display_name": "Python 3 (ipykernel)",
   "language": "python",
   "name": "python3"
  },
  "language_info": {
   "codemirror_mode": {
    "name": "ipython",
    "version": 3
   },
   "file_extension": ".py",
   "mimetype": "text/x-python",
   "name": "python",
   "nbconvert_exporter": "python",
   "pygments_lexer": "ipython3",
   "version": "3.8.8"
  }
 },
 "nbformat": 4,
 "nbformat_minor": 5
}
