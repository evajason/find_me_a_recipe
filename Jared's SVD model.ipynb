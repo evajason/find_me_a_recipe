{
 "cells": [
  {
   "cell_type": "code",
   "execution_count": 1,
   "id": "db3ba2da",
   "metadata": {},
   "outputs": [],
   "source": [
    "from surprise import Dataset, Reader, SVD\n",
    "from surprise.model_selection import train_test_split, cross_validate, GridSearchCV\n",
    "from surprise import accuracy\n",
    "from surprise.prediction_algorithms import knns, slope_one\n",
    "\n",
    "from sklearn.metrics import mean_squared_error\n",
    "\n",
    "import pandas as pd\n",
    "import numpy as np"
   ]
  },
  {
   "cell_type": "markdown",
   "id": "99bcb95f",
   "metadata": {},
   "source": [
    "#### Assignment 1 solution"
   ]
  },
  {
   "cell_type": "markdown",
   "id": "54ab3e0c",
   "metadata": {},
   "source": [
    "### Preprocessing"
   ]
  },
  {
   "cell_type": "code",
   "execution_count": 2,
   "id": "5bfe5bc2",
   "metadata": {},
   "outputs": [],
   "source": [
    "raw_interactions_df = pd.read_csv(\"data/RAW_interactions.csv\")"
   ]
  },
  {
   "cell_type": "code",
   "execution_count": 3,
   "id": "97ad841c",
   "metadata": {},
   "outputs": [
    {
     "data": {
      "text/html": [
       "<div>\n",
       "<style scoped>\n",
       "    .dataframe tbody tr th:only-of-type {\n",
       "        vertical-align: middle;\n",
       "    }\n",
       "\n",
       "    .dataframe tbody tr th {\n",
       "        vertical-align: top;\n",
       "    }\n",
       "\n",
       "    .dataframe thead th {\n",
       "        text-align: right;\n",
       "    }\n",
       "</style>\n",
       "<table border=\"1\" class=\"dataframe\">\n",
       "  <thead>\n",
       "    <tr style=\"text-align: right;\">\n",
       "      <th></th>\n",
       "      <th>user_id</th>\n",
       "      <th>recipe_id</th>\n",
       "      <th>date</th>\n",
       "      <th>rating</th>\n",
       "      <th>review</th>\n",
       "    </tr>\n",
       "  </thead>\n",
       "  <tbody>\n",
       "    <tr>\n",
       "      <th>0</th>\n",
       "      <td>38094</td>\n",
       "      <td>40893</td>\n",
       "      <td>2003-02-17</td>\n",
       "      <td>4</td>\n",
       "      <td>Great with a salad. Cooked on top of stove for...</td>\n",
       "    </tr>\n",
       "    <tr>\n",
       "      <th>1</th>\n",
       "      <td>1293707</td>\n",
       "      <td>40893</td>\n",
       "      <td>2011-12-21</td>\n",
       "      <td>5</td>\n",
       "      <td>So simple, so delicious! Great for chilly fall...</td>\n",
       "    </tr>\n",
       "    <tr>\n",
       "      <th>2</th>\n",
       "      <td>8937</td>\n",
       "      <td>44394</td>\n",
       "      <td>2002-12-01</td>\n",
       "      <td>4</td>\n",
       "      <td>This worked very well and is EASY.  I used not...</td>\n",
       "    </tr>\n",
       "    <tr>\n",
       "      <th>3</th>\n",
       "      <td>126440</td>\n",
       "      <td>85009</td>\n",
       "      <td>2010-02-27</td>\n",
       "      <td>5</td>\n",
       "      <td>I made the Mexican topping and took it to bunk...</td>\n",
       "    </tr>\n",
       "    <tr>\n",
       "      <th>4</th>\n",
       "      <td>57222</td>\n",
       "      <td>85009</td>\n",
       "      <td>2011-10-01</td>\n",
       "      <td>5</td>\n",
       "      <td>Made the cheddar bacon topping, adding a sprin...</td>\n",
       "    </tr>\n",
       "  </tbody>\n",
       "</table>\n",
       "</div>"
      ],
      "text/plain": [
       "   user_id  recipe_id        date  rating  \\\n",
       "0    38094      40893  2003-02-17       4   \n",
       "1  1293707      40893  2011-12-21       5   \n",
       "2     8937      44394  2002-12-01       4   \n",
       "3   126440      85009  2010-02-27       5   \n",
       "4    57222      85009  2011-10-01       5   \n",
       "\n",
       "                                              review  \n",
       "0  Great with a salad. Cooked on top of stove for...  \n",
       "1  So simple, so delicious! Great for chilly fall...  \n",
       "2  This worked very well and is EASY.  I used not...  \n",
       "3  I made the Mexican topping and took it to bunk...  \n",
       "4  Made the cheddar bacon topping, adding a sprin...  "
      ]
     },
     "execution_count": 3,
     "metadata": {},
     "output_type": "execute_result"
    }
   ],
   "source": [
    "raw_interactions_df.head()"
   ]
  },
  {
   "cell_type": "code",
   "execution_count": 4,
   "id": "81348659",
   "metadata": {},
   "outputs": [],
   "source": [
    "df = raw_interactions_df[['user_id', 'recipe_id', 'rating']]"
   ]
  },
  {
   "cell_type": "code",
   "execution_count": 5,
   "id": "5e3c7b04",
   "metadata": {},
   "outputs": [],
   "source": [
    "reader = Reader(rating_scale=(0, 5))\n",
    "dataset = Dataset.load_from_df(df, reader)\n",
    "trainset, testset = train_test_split(dataset, test_size=0.1, random_state=42)"
   ]
  },
  {
   "cell_type": "markdown",
   "id": "04bc196e",
   "metadata": {},
   "source": [
    "# Baseline Model"
   ]
  },
  {
   "cell_type": "code",
   "execution_count": 6,
   "id": "8d26d3fd",
   "metadata": {},
   "outputs": [],
   "source": [
    "class Baseline():\n",
    "    def __init__(self, df, loss=mean_squared_error):\n",
    "        self.mean_rating_per_recipe = df[['recipe_id', 'rating']].groupby('recipe_id').mean()\n",
    "        self.mean_rating_per_user = df[['user_id', 'rating']].groupby('user_id').mean()\n",
    "\n",
    "        self.average_recipe_rating = self.mean_rating_per_recipe['rating'].mean()\n",
    "        self.average_average_user_rating = self.mean_rating_per_user['rating'].mean()\n",
    "        self.global_average_rating = df['rating'].mean()\n",
    "        \n",
    "        # Setting different baseline options\n",
    "        self.model = 'user'\n",
    "        self.model_options = {'item': self.__recipe, \n",
    "                              'user': self.__user,\n",
    "                              'global': self.__global_average, \n",
    "                              'recipe_personal': self.__recipe_personal, \n",
    "                              'user_personal': self.__user_personal}\n",
    "        \n",
    "        # Sets loss function of model\n",
    "        self.loss = loss\n",
    "        \n",
    "    def debug(self):\n",
    "        print(self.average_recipe_rating, \n",
    "              self.average_average_user_rating, \n",
    "              self.global_average_rating)\n",
    "        \n",
    "    # TODO: name these methods more descriptively\n",
    "    def __recipe(self, userid, reviewid):\n",
    "        # returns average rating for all recipes\n",
    "        return self.average_recipe_rating\n",
    "\n",
    "    def __user(self, userid, reviewid):\n",
    "        # returns average of average user ratings\n",
    "        return self.average_average_user_rating\n",
    "\n",
    "    def __global_average(self, *args):\n",
    "        # returns average rating from all users\n",
    "        return self.global_average_rating\n",
    "    \n",
    "    def __recipe_personal(self, userid, recipeid):\n",
    "        # returns average rating that specific recipe recieves\n",
    "        # if no data on recipe, return average recipe rating\n",
    "        try:\n",
    "            return self.mean_rating_per_recipe.loc[recipeid]['rating']\n",
    "        except KeyError:\n",
    "            return self.__recipe(userid, recipeid)\n",
    "    \n",
    "    def __user_personal(self, userid, recipeid):\n",
    "        # returns user's average rating\n",
    "        # if no data on user, return global average user rating\n",
    "        try:\n",
    "            return self.mean_rating_per_user.loc[userid]['rating']\n",
    "        except KeyError:\n",
    "            return self.__global_average(userid, recipeid)\n",
    "\n",
    "    def prediction_on_list(self, dataset, model=None):\n",
    "        if model != None:\n",
    "            self.model = model            \n",
    "        preds = [self.model_options[self.model](u,i) for u,i,r in dataset]\n",
    "        return preds\n",
    "    \n",
    "    def prediction_single(self, u, i, model=None):\n",
    "        if model != None:\n",
    "            self.model = model\n",
    "        return self.model_options[self.model](u,i)\n",
    "    \n",
    "    def test(self, dataset, y=None, model=None):\n",
    "        # Runs single baseline\n",
    "        if y is None:\n",
    "            y = [r for _,_,r in dataset]\n",
    "        preds = self.prediction_on_list(dataset, model)\n",
    "        return self.loss(preds,y)\n",
    "    \n",
    "    def full_test(self, dataset):\n",
    "        # Runs all baselines\n",
    "        output = {}\n",
    "        y = [r for _,_,r in dataset]\n",
    "        for m in self.model_options:\n",
    "            output[m] = self.test(dataset, y=y, model=m)\n",
    "        return output"
   ]
  },
  {
   "cell_type": "code",
   "execution_count": 7,
   "id": "d4ca48d0",
   "metadata": {},
   "outputs": [],
   "source": [
    "baseline = Baseline(df)"
   ]
  },
  {
   "cell_type": "code",
   "execution_count": 8,
   "id": "c21014ea",
   "metadata": {
    "scrolled": false
   },
   "outputs": [
    {
     "name": "stdout",
     "output_type": "stream",
     "text": [
      "4.346246073856282 3.8730314376160444 4.411016039852804\n"
     ]
    }
   ],
   "source": [
    "baseline.debug()"
   ]
  },
  {
   "cell_type": "code",
   "execution_count": 9,
   "id": "6967ef27",
   "metadata": {},
   "outputs": [
    {
     "data": {
      "text/plain": [
       "{'item': 1.5934706070691902,\n",
       " 'user': 1.8821862899224973,\n",
       " 'global': 1.5887986777978325,\n",
       " 'recipe_personal': 1.1867050474032932,\n",
       " 'user_personal': 0.7036240513575874}"
      ]
     },
     "execution_count": 9,
     "metadata": {},
     "output_type": "execute_result"
    }
   ],
   "source": [
    "baseline.full_test(testset)"
   ]
  },
  {
   "cell_type": "markdown",
   "id": "82e9cc92",
   "metadata": {},
   "source": [
    "# SVD Model"
   ]
  },
  {
   "cell_type": "code",
   "execution_count": 10,
   "id": "ff8d8f51",
   "metadata": {},
   "outputs": [
    {
     "name": "stdout",
     "output_type": "stream",
     "text": [
      "expected runtime = 622.8000000000001 seconds\n",
      "Or 10.38 minutes\n",
      "possibly up to 20.76 minutes?\n"
     ]
    }
   ],
   "source": [
    "# hyperparameter tuning\n",
    "# best found through various trials\n",
    "param_grid = {'n_factors': [1],\n",
    "              'n_epochs': [14,15,16],\n",
    "              'lr_all': [0.0065, 0.007, 0.0075, 0.008], \n",
    "              'reg_all': [0.06, 0.07, 0.08]}\n",
    "\n",
    "single_train_time = 17.3\n",
    "total_items = sum(len(items) for items in param_grid.values())\n",
    "expected_runtime = single_train_time\n",
    "for i in param_grid:\n",
    "    expected_runtime = expected_runtime * len(param_grid[i])\n",
    "\n",
    "print(f'expected runtime = {expected_runtime} seconds\\nOr {expected_runtime/60} minutes')\n",
    "print(f'possibly up to {expected_runtime/30} minutes?')"
   ]
  },
  {
   "cell_type": "code",
   "execution_count": 11,
   "id": "f69e549d",
   "metadata": {},
   "outputs": [],
   "source": [
    "# %%time\n",
    "# gs = GridSearchCV(SVD, param_grid, measures=['mse'], cv=5, n_jobs=-1)\n",
    "# gs.fit(dataset)\n",
    "\n",
    "# # Best hyperparameters\n",
    "# print(gs.best_params)"
   ]
  },
  {
   "cell_type": "code",
   "execution_count": 12,
   "id": "f905cfd2",
   "metadata": {
    "scrolled": true
   },
   "outputs": [
    {
     "name": "stdout",
     "output_type": "stream",
     "text": [
      "CPU times: user 4.46 s, sys: 63.6 ms, total: 4.53 s\n",
      "Wall time: 4.72 s\n"
     ]
    },
    {
     "data": {
      "text/plain": [
       "<surprise.prediction_algorithms.matrix_factorization.SVD at 0x7f7fcefa5cd0>"
      ]
     },
     "execution_count": 12,
     "metadata": {},
     "output_type": "execute_result"
    }
   ],
   "source": [
    "%%time\n",
    "model = SVD(n_factors= 1, n_epochs= 15, lr_all= 0.007, reg_all= 0.07)\n",
    "# model = SVD()\n",
    "model.fit(trainset)"
   ]
  },
  {
   "cell_type": "code",
   "execution_count": 13,
   "id": "ddbce385",
   "metadata": {},
   "outputs": [
    {
     "name": "stdout",
     "output_type": "stream",
     "text": [
      "MSE: 1.1409\n"
     ]
    },
    {
     "data": {
      "text/plain": [
       "1.1408532610270905"
      ]
     },
     "execution_count": 13,
     "metadata": {},
     "output_type": "execute_result"
    }
   ],
   "source": [
    "predictions = model.test(trainset.build_testset())\n",
    "accuracy.mse(predictions)"
   ]
  },
  {
   "cell_type": "code",
   "execution_count": 14,
   "id": "c10bb66f",
   "metadata": {},
   "outputs": [
    {
     "name": "stdout",
     "output_type": "stream",
     "text": [
      "MSE: 1.4553\n"
     ]
    },
    {
     "data": {
      "text/plain": [
       "1.4552663171327083"
      ]
     },
     "execution_count": 14,
     "metadata": {},
     "output_type": "execute_result"
    }
   ],
   "source": [
    "predictions = model.test(testset)\n",
    "accuracy.mse(predictions)"
   ]
  },
  {
   "cell_type": "markdown",
   "id": "85918de5",
   "metadata": {},
   "source": [
    "#### Why is this worse?"
   ]
  },
  {
   "cell_type": "code",
   "execution_count": 15,
   "id": "f9964779",
   "metadata": {
    "scrolled": false
   },
   "outputs": [
    {
     "data": {
      "text/html": [
       "<div>\n",
       "<style scoped>\n",
       "    .dataframe tbody tr th:only-of-type {\n",
       "        vertical-align: middle;\n",
       "    }\n",
       "\n",
       "    .dataframe tbody tr th {\n",
       "        vertical-align: top;\n",
       "    }\n",
       "\n",
       "    .dataframe thead th {\n",
       "        text-align: right;\n",
       "    }\n",
       "</style>\n",
       "<table border=\"1\" class=\"dataframe\">\n",
       "  <thead>\n",
       "    <tr style=\"text-align: right;\">\n",
       "      <th></th>\n",
       "      <th>user_id</th>\n",
       "    </tr>\n",
       "    <tr>\n",
       "      <th>recipe_id</th>\n",
       "      <th></th>\n",
       "    </tr>\n",
       "  </thead>\n",
       "  <tbody>\n",
       "    <tr>\n",
       "      <th>1</th>\n",
       "      <td>166256</td>\n",
       "    </tr>\n",
       "    <tr>\n",
       "      <th>2</th>\n",
       "      <td>22738</td>\n",
       "    </tr>\n",
       "    <tr>\n",
       "      <th>3</th>\n",
       "      <td>9346</td>\n",
       "    </tr>\n",
       "    <tr>\n",
       "      <th>4</th>\n",
       "      <td>5144</td>\n",
       "    </tr>\n",
       "    <tr>\n",
       "      <th>5</th>\n",
       "      <td>3421</td>\n",
       "    </tr>\n",
       "  </tbody>\n",
       "</table>\n",
       "</div>"
      ],
      "text/plain": [
       "           user_id\n",
       "recipe_id         \n",
       "1           166256\n",
       "2            22738\n",
       "3             9346\n",
       "4             5144\n",
       "5             3421"
      ]
     },
     "execution_count": 15,
     "metadata": {},
     "output_type": "execute_result"
    }
   ],
   "source": [
    "users = df[['user_id', 'recipe_id']].groupby('user_id').count()\n",
    "num_users_per_review_count = users.reset_index().groupby('recipe_id').count()\n",
    "num_users_per_review_count.head()"
   ]
  },
  {
   "cell_type": "code",
   "execution_count": 16,
   "id": "7e7f94c4",
   "metadata": {},
   "outputs": [
    {
     "data": {
      "text/plain": [
       "0.7337952950523017"
      ]
     },
     "execution_count": 16,
     "metadata": {},
     "output_type": "execute_result"
    }
   ],
   "source": [
    "num_users_per_review_count['user_id'].loc[1]/users.shape[0]"
   ]
  },
  {
   "cell_type": "code",
   "execution_count": 17,
   "id": "2e1e5588",
   "metadata": {},
   "outputs": [
    {
     "data": {
      "text/plain": [
       "0.8981065454384959"
      ]
     },
     "execution_count": 17,
     "metadata": {},
     "output_type": "execute_result"
    }
   ],
   "source": [
    "num_users_per_review_count['user_id'].loc[:4].sum()/users.shape[0]"
   ]
  },
  {
   "cell_type": "markdown",
   "id": "6d052bcb",
   "metadata": {},
   "source": [
    "73% of the users in the dataset have only reviewed a single item so our data is extremely sparse. 90% have reviewed under 5 items"
   ]
  },
  {
   "cell_type": "markdown",
   "id": "e9a31e92",
   "metadata": {},
   "source": [
    "# Same analysis but only using users with >1 review"
   ]
  },
  {
   "cell_type": "code",
   "execution_count": 18,
   "id": "17fa6f77",
   "metadata": {
    "scrolled": true
   },
   "outputs": [],
   "source": [
    "df_counts = df[['user_id', 'rating']].groupby('user_id').count().sort_values(by='rating', ascending=False)\n",
    "users_with_multiple_reviews = set(df_counts[df_counts['rating'] > 1].index)"
   ]
  },
  {
   "cell_type": "code",
   "execution_count": 19,
   "id": "fc16804c",
   "metadata": {
    "scrolled": true
   },
   "outputs": [
    {
     "data": {
      "text/html": [
       "<div>\n",
       "<style scoped>\n",
       "    .dataframe tbody tr th:only-of-type {\n",
       "        vertical-align: middle;\n",
       "    }\n",
       "\n",
       "    .dataframe tbody tr th {\n",
       "        vertical-align: top;\n",
       "    }\n",
       "\n",
       "    .dataframe thead th {\n",
       "        text-align: right;\n",
       "    }\n",
       "</style>\n",
       "<table border=\"1\" class=\"dataframe\">\n",
       "  <thead>\n",
       "    <tr style=\"text-align: right;\">\n",
       "      <th></th>\n",
       "      <th>user_id</th>\n",
       "      <th>recipe_id</th>\n",
       "      <th>rating</th>\n",
       "    </tr>\n",
       "  </thead>\n",
       "  <tbody>\n",
       "    <tr>\n",
       "      <th>0</th>\n",
       "      <td>38094</td>\n",
       "      <td>40893</td>\n",
       "      <td>4</td>\n",
       "    </tr>\n",
       "    <tr>\n",
       "      <th>1</th>\n",
       "      <td>1293707</td>\n",
       "      <td>40893</td>\n",
       "      <td>5</td>\n",
       "    </tr>\n",
       "    <tr>\n",
       "      <th>2</th>\n",
       "      <td>8937</td>\n",
       "      <td>44394</td>\n",
       "      <td>4</td>\n",
       "    </tr>\n",
       "    <tr>\n",
       "      <th>3</th>\n",
       "      <td>126440</td>\n",
       "      <td>85009</td>\n",
       "      <td>5</td>\n",
       "    </tr>\n",
       "    <tr>\n",
       "      <th>4</th>\n",
       "      <td>57222</td>\n",
       "      <td>85009</td>\n",
       "      <td>5</td>\n",
       "    </tr>\n",
       "    <tr>\n",
       "      <th>...</th>\n",
       "      <td>...</td>\n",
       "      <td>...</td>\n",
       "      <td>...</td>\n",
       "    </tr>\n",
       "    <tr>\n",
       "      <th>1132357</th>\n",
       "      <td>1122988</td>\n",
       "      <td>82303</td>\n",
       "      <td>5</td>\n",
       "    </tr>\n",
       "    <tr>\n",
       "      <th>1132361</th>\n",
       "      <td>102526</td>\n",
       "      <td>54493</td>\n",
       "      <td>0</td>\n",
       "    </tr>\n",
       "    <tr>\n",
       "      <th>1132363</th>\n",
       "      <td>583662</td>\n",
       "      <td>386618</td>\n",
       "      <td>5</td>\n",
       "    </tr>\n",
       "    <tr>\n",
       "      <th>1132364</th>\n",
       "      <td>157126</td>\n",
       "      <td>78003</td>\n",
       "      <td>5</td>\n",
       "    </tr>\n",
       "    <tr>\n",
       "      <th>1132365</th>\n",
       "      <td>53932</td>\n",
       "      <td>78003</td>\n",
       "      <td>4</td>\n",
       "    </tr>\n",
       "  </tbody>\n",
       "</table>\n",
       "<p>966111 rows × 3 columns</p>\n",
       "</div>"
      ],
      "text/plain": [
       "         user_id  recipe_id  rating\n",
       "0          38094      40893       4\n",
       "1        1293707      40893       5\n",
       "2           8937      44394       4\n",
       "3         126440      85009       5\n",
       "4          57222      85009       5\n",
       "...          ...        ...     ...\n",
       "1132357  1122988      82303       5\n",
       "1132361   102526      54493       0\n",
       "1132363   583662     386618       5\n",
       "1132364   157126      78003       5\n",
       "1132365    53932      78003       4\n",
       "\n",
       "[966111 rows x 3 columns]"
      ]
     },
     "execution_count": 19,
     "metadata": {},
     "output_type": "execute_result"
    }
   ],
   "source": [
    "limited_df = df[df['user_id'].apply(lambda x: x in users_with_multiple_reviews)]\n",
    "limited_df"
   ]
  },
  {
   "cell_type": "code",
   "execution_count": 20,
   "id": "10566ba6",
   "metadata": {},
   "outputs": [],
   "source": [
    "reader = Reader(rating_scale=(0, 5))\n",
    "dataset = Dataset.load_from_df(limited_df, reader)\n",
    "limited_trainset, limited_testset = train_test_split(dataset, test_size=0.1, random_state=42)"
   ]
  },
  {
   "cell_type": "markdown",
   "id": "28c1a2ab",
   "metadata": {},
   "source": [
    "##### Baseline"
   ]
  },
  {
   "cell_type": "code",
   "execution_count": 21,
   "id": "110b906d",
   "metadata": {},
   "outputs": [],
   "source": [
    "limited_baseline = Baseline(limited_df)"
   ]
  },
  {
   "cell_type": "code",
   "execution_count": 22,
   "id": "9b0054ee",
   "metadata": {},
   "outputs": [
    {
     "data": {
      "text/plain": [
       "{'item': 1.1369639082176055,\n",
       " 'user': 1.1905418870749,\n",
       " 'global': 1.129318140440475,\n",
       " 'recipe_personal': 0.8145941706410001,\n",
       " 'user_personal': 0.8485871676468286}"
      ]
     },
     "execution_count": 22,
     "metadata": {},
     "output_type": "execute_result"
    }
   ],
   "source": [
    "limited_baseline.full_test(limited_testset)"
   ]
  },
  {
   "cell_type": "markdown",
   "id": "6dc8e08b",
   "metadata": {},
   "source": [
    "##### Model"
   ]
  },
  {
   "cell_type": "code",
   "execution_count": 23,
   "id": "edf74a5a",
   "metadata": {},
   "outputs": [
    {
     "name": "stdout",
     "output_type": "stream",
     "text": [
      "expected runtime = 622.8000000000001 seconds\n",
      "Or 10.38 minutes\n",
      "possibly up to 20.76 minutes?\n"
     ]
    }
   ],
   "source": [
    "# hyperparameter tuning\n",
    "# best found through various trials\n",
    "#     {'mse': {'n_factors': 1, 'n_epochs': 15, 'lr_all': 0.008, 'reg_all': 0.06}}\n",
    "param_grid = {'n_factors': [1],\n",
    "              'n_epochs': [14,15,16],\n",
    "              'lr_all': [0.0065, 0.007, 0.0075, 0.008], \n",
    "              'reg_all': [0.06, 0.07, 0.08]}\n",
    "\n",
    "single_train_time = 17.3\n",
    "total_items = sum(len(items) for items in param_grid.values())\n",
    "expected_runtime = single_train_time\n",
    "for i in param_grid:\n",
    "    expected_runtime = expected_runtime * len(param_grid[i])\n",
    "\n",
    "print(f'expected runtime = {expected_runtime} seconds\\nOr {expected_runtime/60} minutes')\n",
    "print(f'possibly up to {expected_runtime/30} minutes?')"
   ]
  },
  {
   "cell_type": "code",
   "execution_count": 24,
   "id": "01e4ac33",
   "metadata": {},
   "outputs": [],
   "source": [
    "# %%time\n",
    "# gs = GridSearchCV(SVD, param_grid, measures=['mse'], cv=5, n_jobs=-1)\n",
    "# gs.fit(dataset)\n",
    "\n",
    "# # Best hyperparameters\n",
    "# print(gs.best_params)"
   ]
  },
  {
   "cell_type": "code",
   "execution_count": 25,
   "id": "b542e829",
   "metadata": {
    "scrolled": false
   },
   "outputs": [
    {
     "name": "stdout",
     "output_type": "stream",
     "text": [
      "CPU times: user 3.86 s, sys: 138 ms, total: 4 s\n",
      "Wall time: 4.16 s\n"
     ]
    },
    {
     "data": {
      "text/plain": [
       "<surprise.prediction_algorithms.matrix_factorization.SVD at 0x7f7faf758460>"
      ]
     },
     "execution_count": 25,
     "metadata": {},
     "output_type": "execute_result"
    }
   ],
   "source": [
    "%%time\n",
    "limited_model = SVD(n_factors= 1, n_epochs= 15, lr_all= 0.0065, reg_all= 0.08)\n",
    "# model = SVD()\n",
    "limited_model.fit(limited_trainset)"
   ]
  },
  {
   "cell_type": "code",
   "execution_count": 26,
   "id": "626544d3",
   "metadata": {},
   "outputs": [
    {
     "name": "stdout",
     "output_type": "stream",
     "text": [
      "MSE: 0.8283\n"
     ]
    },
    {
     "data": {
      "text/plain": [
       "0.8283305939041588"
      ]
     },
     "execution_count": 26,
     "metadata": {},
     "output_type": "execute_result"
    }
   ],
   "source": [
    "predictions = limited_model.test(limited_trainset.build_testset())\n",
    "accuracy.mse(predictions)"
   ]
  },
  {
   "cell_type": "code",
   "execution_count": 27,
   "id": "939ddcfc",
   "metadata": {
    "scrolled": true
   },
   "outputs": [
    {
     "name": "stdout",
     "output_type": "stream",
     "text": [
      "MSE: 1.0207\n"
     ]
    },
    {
     "data": {
      "text/plain": [
       "1.0206542081768688"
      ]
     },
     "execution_count": 27,
     "metadata": {},
     "output_type": "execute_result"
    }
   ],
   "source": [
    "predictions = limited_model.test(limited_testset)\n",
    "accuracy.mse(predictions)"
   ]
  },
  {
   "cell_type": "markdown",
   "id": "7c7d8570",
   "metadata": {},
   "source": [
    "##### Trying model on non-limited data"
   ]
  },
  {
   "cell_type": "code",
   "execution_count": 28,
   "id": "d88f7f1a",
   "metadata": {},
   "outputs": [
    {
     "data": {
      "text/plain": [
       "{'item': 1.589432132091374,\n",
       " 'user': 1.606888966663602,\n",
       " 'global': 1.6018533023850234,\n",
       " 'recipe_personal': 1.3441734506693888,\n",
       " 'user_personal': 1.3673265894950544}"
      ]
     },
     "execution_count": 28,
     "metadata": {},
     "output_type": "execute_result"
    }
   ],
   "source": [
    "limited_baseline.full_test(testset)"
   ]
  },
  {
   "cell_type": "code",
   "execution_count": 29,
   "id": "0f5c25e2",
   "metadata": {
    "scrolled": true
   },
   "outputs": [
    {
     "name": "stdout",
     "output_type": "stream",
     "text": [
      "MSE: 1.3608\n"
     ]
    },
    {
     "data": {
      "text/plain": [
       "1.3608064538559206"
      ]
     },
     "execution_count": 29,
     "metadata": {},
     "output_type": "execute_result"
    }
   ],
   "source": [
    "predictions = limited_model.test(testset)\n",
    "accuracy.mse(predictions)"
   ]
  },
  {
   "cell_type": "code",
   "execution_count": 78,
   "id": "66b892fd",
   "metadata": {},
   "outputs": [],
   "source": [
    "import matplotlib.pyplot as plt\n",
    "import pandas as pd\n",
    "\n",
    "d = {'r_ui': [p.r_ui for p in predictions], 'est': [p.est for p in predictions], \"iid\":[p.iid for p in predictions], \"uid\":[p.uid for p in predictions]}\n",
    "df = pd.DataFrame(data=d)"
   ]
  },
  {
   "cell_type": "code",
   "execution_count": 77,
   "id": "00b4564f",
   "metadata": {},
   "outputs": [
    {
     "data": {
      "image/png": "[encoded data removed]",
      "text/plain": [
       "<Figure size 432x288 with 1 Axes>"
      ]
     },
     "metadata": {
      "needs_background": "light"
     },
     "output_type": "display_data"
    }
   ],
   "source": [
    "diff = [e-r for e,r in zip(est,r_ui)]\n",
    "plt.scatter(d['est'], d['r_ui'], alpha=0.5, marker=\".\", s=2)\n",
    "plt.ylabel('Predicted User Rating')  \n",
    "plt.xlabel('User Rating')  \n",
    "plt.title(\"Predicted User Rating vs. User Rating\")\n",
    "plt.savefig('Predicted_User_Rating_vs.User_Rating.png',bbox_inches=\"tight\")"
   ]
  },
  {
   "cell_type": "code",
   "execution_count": 92,
   "id": "4426a7e4",
   "metadata": {},
   "outputs": [
    {
     "data": {
      "image/png": "[encoded data removed]",
      "text/plain": [
       "<Figure size 432x288 with 1 Axes>"
      ]
     },
     "metadata": {
      "needs_background": "light"
     },
     "output_type": "display_data"
    }
   ],
   "source": [
    "est_0 = df[df[\"r_ui\"] == 0][\"est\"]\n",
    "est_1 = df[df[\"r_ui\"] == 1][\"est\"]\n",
    "est_2 = df[df[\"r_ui\"] == 2][\"est\"]\n",
    "est_3 = df[df[\"r_ui\"] == 3][\"est\"]\n",
    "est_4 = df[df[\"r_ui\"] == 4][\"est\"]\n",
    "est_5 = df[df[\"r_ui\"] == 5][\"est\"]\n",
    "\n",
    "plt.boxplot([est_0, est_1, est_2,est_3,est_4,est_5])\n",
    "plt.ylabel('Predicted User Rating')  \n",
    "plt.xlabel('User Rating')  \n",
    "plt.xticks(ticks=range(1,7),labels=['0','1','2','3','4','5'])\n",
    "plt.show()"
   ]
  },
  {
   "cell_type": "markdown",
   "id": "b84a6c04",
   "metadata": {},
   "source": [
    "## Now predict the recipe a user should try"
   ]
  },
  {
   "cell_type": "code",
   "execution_count": 31,
   "id": "139aec27",
   "metadata": {},
   "outputs": [],
   "source": [
    "def find_best_recipe_for_user(userid, surprise_model, recipes_df):\n",
    "    preds = [surprise_model.predict(userid,i) for i in recipes_df['id']]\n",
    "    preds.sort(key=lambda p: p.est, reverse=True)  # sorts in place\n",
    "\n",
    "    return recipes_df[recipes_df['id'] == preds[0].iid]"
   ]
  },
  {
   "cell_type": "code",
   "execution_count": 32,
   "id": "2a67c6e2",
   "metadata": {},
   "outputs": [],
   "source": [
    "raw_recipes_df = pd.read_csv(\"data/RAW_recipes.csv\")"
   ]
  },
  {
   "cell_type": "code",
   "execution_count": 33,
   "id": "03e1bb17",
   "metadata": {},
   "outputs": [
    {
     "data": {
      "text/html": [
       "<div>\n",
       "<style scoped>\n",
       "    .dataframe tbody tr th:only-of-type {\n",
       "        vertical-align: middle;\n",
       "    }\n",
       "\n",
       "    .dataframe tbody tr th {\n",
       "        vertical-align: top;\n",
       "    }\n",
       "\n",
       "    .dataframe thead th {\n",
       "        text-align: right;\n",
       "    }\n",
       "</style>\n",
       "<table border=\"1\" class=\"dataframe\">\n",
       "  <thead>\n",
       "    <tr style=\"text-align: right;\">\n",
       "      <th></th>\n",
       "      <th>name</th>\n",
       "      <th>id</th>\n",
       "      <th>minutes</th>\n",
       "      <th>contributor_id</th>\n",
       "      <th>submitted</th>\n",
       "      <th>tags</th>\n",
       "      <th>nutrition</th>\n",
       "      <th>n_steps</th>\n",
       "      <th>steps</th>\n",
       "      <th>description</th>\n",
       "      <th>ingredients</th>\n",
       "      <th>n_ingredients</th>\n",
       "    </tr>\n",
       "  </thead>\n",
       "  <tbody>\n",
       "    <tr>\n",
       "      <th>15</th>\n",
       "      <td>chicken lickin  good  pork chops</td>\n",
       "      <td>63986</td>\n",
       "      <td>500</td>\n",
       "      <td>14664</td>\n",
       "      <td>2003-06-06</td>\n",
       "      <td>['weeknight', 'time-to-make', 'course', 'main-...</td>\n",
       "      <td>[105.7, 8.0, 0.0, 26.0, 5.0, 4.0, 3.0]</td>\n",
       "      <td>5</td>\n",
       "      <td>['dredge pork chops in mixture of flour , salt...</td>\n",
       "      <td>here's and old standby i enjoy from time to ti...</td>\n",
       "      <td>['lean pork chops', 'flour', 'salt', 'dry must...</td>\n",
       "      <td>7</td>\n",
       "    </tr>\n",
       "  </tbody>\n",
       "</table>\n",
       "</div>"
      ],
      "text/plain": [
       "                                name     id  minutes  contributor_id  \\\n",
       "15  chicken lickin  good  pork chops  63986      500           14664   \n",
       "\n",
       "     submitted                                               tags  \\\n",
       "15  2003-06-06  ['weeknight', 'time-to-make', 'course', 'main-...   \n",
       "\n",
       "                                 nutrition  n_steps  \\\n",
       "15  [105.7, 8.0, 0.0, 26.0, 5.0, 4.0, 3.0]        5   \n",
       "\n",
       "                                                steps  \\\n",
       "15  ['dredge pork chops in mixture of flour , salt...   \n",
       "\n",
       "                                          description  \\\n",
       "15  here's and old standby i enjoy from time to ti...   \n",
       "\n",
       "                                          ingredients  n_ingredients  \n",
       "15  ['lean pork chops', 'flour', 'salt', 'dry must...              7  "
      ]
     },
     "execution_count": 33,
     "metadata": {},
     "output_type": "execute_result"
    }
   ],
   "source": [
    "find_best_recipe_for_user(126440, limited_model, raw_recipes_df)"
   ]
  },
  {
   "cell_type": "code",
   "execution_count": 34,
   "id": "4f1352af",
   "metadata": {},
   "outputs": [
    {
     "data": {
      "text/plain": [
       "19"
      ]
     },
     "execution_count": 34,
     "metadata": {},
     "output_type": "execute_result"
    }
   ],
   "source": [
    "df[df['recipe_id'] == 63986].shape[0]"
   ]
  },
  {
   "cell_type": "code",
   "execution_count": null,
   "id": "56e34514",
   "metadata": {},
   "outputs": [],
   "source": []
  }
 ],
 "metadata": {
  "kernelspec": {
   "display_name": "Python 3 (ipykernel)",
   "language": "python",
   "name": "python3"
  },
  "language_info": {
   "codemirror_mode": {
    "name": "ipython",
    "version": 3
   },
   "file_extension": ".py",
   "mimetype": "text/x-python",
   "name": "python",
   "nbconvert_exporter": "python",
   "pygments_lexer": "ipython3",
   "version": "3.8.8"
  }
 },
 "nbformat": 4,
 "nbformat_minor": 5
}
